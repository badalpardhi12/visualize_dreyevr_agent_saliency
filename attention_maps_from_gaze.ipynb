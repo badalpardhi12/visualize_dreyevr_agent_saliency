{
 "cells": [
  {
   "cell_type": "code",
   "execution_count": 1,
   "id": "f39ccfd6-5f7e-434e-9a92-828f4f9c83f1",
   "metadata": {},
   "outputs": [],
   "source": [
    "%load_ext autoreload\n",
    "%autoreload 2"
   ]
  },
  {
   "cell_type": "code",
   "execution_count": 26,
   "id": "13dca9cb-6aab-42ed-b3fe-5b55ed69c38f",
   "metadata": {},
   "outputs": [],
   "source": [
    "# %matplotlib auto"
   ]
  },
  {
   "cell_type": "code",
   "execution_count": 3,
   "id": "3932d3f8-4c50-42db-a4fa-8fb2c8af7419",
   "metadata": {
    "tags": []
   },
   "outputs": [],
   "source": [
    "from pathlib import Path\n",
    "import cv2\n",
    "import pickle as pkl\n",
    "import PIL\n",
    "import numpy as np\n",
    "import pandas as pd\n",
    "from copy import deepcopy\n",
    "import time\n",
    "import sys\n",
    "from scipy.spatial.transform import Rotation as R"
   ]
  },
  {
   "cell_type": "code",
   "execution_count": 4,
   "id": "eb7d0945-61a7-464e-b2ea-783cfc755405",
   "metadata": {},
   "outputs": [],
   "source": [
    "import matplotlib as mpl ; mpl.use(\"Agg\")\n",
    "import matplotlib.pyplot as plt\n",
    "import matplotlib.animation as manimation\n",
    "from matplotlib.pyplot import GridSpec"
   ]
  },
  {
   "cell_type": "code",
   "execution_count": 5,
   "id": "7acdeb76-cfbf-468f-abf9-d13545709fe4",
   "metadata": {
    "tags": []
   },
   "outputs": [],
   "source": [
    "sys.path.append(\"/scratch/abhijatb/Bosch22\")\n",
    "from dreyevr_parser.parser import parse_file\n",
    "from typing import Dict, List, Any\n",
    "from utils import (\n",
    "    check_for_periph_data,\n",
    "    convert_to_df,\n",
    "    split_along_subgroup,\n",
    "    get_good_idxs,\n",
    ")\n",
    "from visualizer import plot_versus\n",
    "from parser_utils import GetGazeDeviationFromHead\n",
    "from ibmmpy.src.ibmmpy.ibmm import EyeClassifier"
   ]
  },
  {
   "cell_type": "code",
   "execution_count": 6,
   "id": "a865911d-5b63-43a7-ae2d-9eedddd5d85e",
   "metadata": {},
   "outputs": [],
   "source": [
    "from dreyevr_attnmap_utils import *\n",
    "from dreyevr_viz.lbc_data_utils import get_data"
   ]
  },
  {
   "cell_type": "code",
   "execution_count": 7,
   "id": "303bae80-28bb-4219-b1eb-c8ed19512cd2",
   "metadata": {
    "tags": []
   },
   "outputs": [],
   "source": [
    "dataset_root = Path(\"/scratch/abhijatb/Bosch22/dreyevr_recordings_sensors/LBC_config_gaze/\")\n",
    "route_data_path = Path(\"/scratch/abhijatb/Bosch22/dreyevr_recordings_sensors/LBC_config_gaze/exp_brady32\")\n",
    "aux_hitpts_root = Path('/scratch/abhijatb/Bosch22/carla.harp_p13bd/Dist/CARLA_Shipping_0.9.12-211-ga7c19cced-dirty/LinuxNoEditor/CarlaUE4/FocusInfoOuts')\n",
    "aux_hitpt_filename = str(route_data_path.stem.strip(\"exp_\"))\n",
    "aux_hitpt_file = aux_hitpts_root / Path(aux_hitpt_filename + \".txt\")"
   ]
  },
  {
   "cell_type": "code",
   "execution_count": 8,
   "id": "556812f9-8384-447c-91e9-b7f41a0b0a93",
   "metadata": {},
   "outputs": [],
   "source": [
    "dreyevr_recording_txt_root = Path(\"/scratch/abhijatb/Bosch22/dreyevr_recordings/RecordingTxts/pre-newCA/\")\n",
    "movie_save_dir = \"/scratch/bpardhi/visualize_dreyevr_agent_saliency/gaze_outputs/\""
   ]
  },
  {
   "cell_type": "code",
   "execution_count": 9,
   "id": "8d641d33-590f-4097-a70f-0a80f72fb418",
   "metadata": {},
   "outputs": [
    {
     "name": "stdout",
     "output_type": "stream",
     "text": [
      "Loaded data from /scratch/abhijatb/Bosch22/dreyevr_parser/cache/tab11.pkl\n",
      "gathered periph data in 0.000s\n",
      "created DReyeVR df in 0.273s\n"
     ]
    }
   ],
   "source": [
    "# read a recording\n",
    "route_data_path = Path('/scratch/abhijatb/Bosch22/dreyevr_recordings_sensors/LBC_config_gaze/exp_tab11')\n",
    "# load the dreyevr data from recording txt\n",
    "participant_name_route = route_data_path.stem.split('_')[-1]\n",
    "participant_name = participant_name_route[:-2]\n",
    "recordingtxt_path = dreyevr_recording_txt_root / participant_name / (participant_name_route + \".txt\")\n",
    "df_new = load_dreyevr_data_and_gazeevent_annotate(recordingtxt_path)\n",
    "\n",
    "dreyevr_data_path =  route_data_path / \"dreyevr_data\""
   ]
  },
  {
   "cell_type": "code",
   "execution_count": 10,
   "id": "4fd67e9c-1cff-420c-8bec-8c348e4e819d",
   "metadata": {},
   "outputs": [],
   "source": [
    "# read focus hitpts from the aux replay outputs and parse them \n",
    "# (older recordings have focus hitpt computed on channel that blocks invisble actors which is undesirable)\n",
    "\n",
    "apply_focusinfohitpt_correction=True"
   ]
  },
  {
   "cell_type": "markdown",
   "id": "ebbdf59f-61a8-4342-bef8-86b5ca682a9d",
   "metadata": {
    "tags": []
   },
   "source": [
    "## Movie generation"
   ]
  },
  {
   "cell_type": "code",
   "execution_count": 11,
   "id": "9bb7ef74-606b-4f02-8a1b-64a5edb1315e",
   "metadata": {
    "tags": []
   },
   "outputs": [
    {
     "name": "stdout",
     "output_type": "stream",
     "text": [
      "Loaded data from /scratch/abhijatb/Bosch22/dreyevr_parser/cache/tab11.pkl\n",
      "gathered periph data in 0.000s\n",
      "created DReyeVR df in 0.304s\n",
      "Loaded data from /scratch/abhijatb/Bosch22/dreyevr_parser/cache/brady32.pkl\n",
      "gathered periph data in 0.000s\n",
      "created DReyeVR df in 0.187s\n",
      "\ttime: 00h 00m 37s | progress: 99.0%\r"
     ]
    }
   ],
   "source": [
    "route_data_paths = list(Path(\"/scratch/abhijatb/Bosch22/dreyevr_recordings_sensors/LBC_config_gaze/\").glob(\"*/\"))\n",
    "route_data_paths.insert(0, Path('/scratch/abhijatb/Bosch22/dreyevr_recordings_sensors/LBC_config_gaze/exp_tab11'))\n",
    "\n",
    "for route_data_path in route_data_paths:\n",
    "    # load the dreyevr data from recording txt\n",
    "    try:\n",
    "        participant_name_route = route_data_path.stem.split('_')[-1]\n",
    "        participant_name = participant_name_route[:-2]\n",
    "        recordingtxt_path = dreyevr_recording_txt_root / participant_name / (participant_name_route + \".txt\")\n",
    "        df_new = load_dreyevr_data_and_gazeevent_annotate(recordingtxt_path)\n",
    "\n",
    "        aux_hitpt_filename = str(route_data_path.stem.strip(\"exp_\"))\n",
    "        aux_hitpt_file = aux_hitpts_root / Path(aux_hitpt_filename + \".txt\")\n",
    "        if apply_focusinfohitpt_correction:\n",
    "            FocusInfoHitPts_fixed = loadFocusInfoCorrected(aux_hitpt_file, len(df_new))\n",
    "            df_new = df_new.assign(FocusInfo_HitPoint=FocusInfoHitPts_fixed)\n",
    "\n",
    "        dreyevr_data_path =  route_data_path / \"dreyevr_data\"\n",
    "\n",
    "\n",
    "        overlay_rad=1\n",
    "        # write a movie with gaze overlay\n",
    "        movie_title = participant_name_route + \".mkv\"\n",
    "        if Path(movie_save_dir+movie_title).exists():\n",
    "            continue\n",
    "\n",
    "        resolution=200\n",
    "        FFMpegWriter = manimation.writers['ffmpeg']\n",
    "        metadata = dict(title=movie_title, artist='ajdroid', comment='dreyevrLBC-gaze-to-cam')\n",
    "        writer = FFMpegWriter(fps=2, metadata=metadata)\n",
    "\n",
    "        final_datapt_idx = int(sorted(list((route_data_path/'rgb').glob('*.png')))[-1].stem)\n",
    "        datapt_idcs = np.arange(final_datapt_idx)+1 # starts from 0001.png\n",
    "        prog = '' ; total_frames = datapt_idcs[-1]\n",
    "        start = time.time()\n",
    "\n",
    "        fig = plt.figure(dpi=resolution)\n",
    "        gaze_memory_window=50 # this is number of ticks, x/20 is num seconds\n",
    "        gaze_frames_per_img = 10\n",
    "\n",
    "        with writer.saving(fig, movie_save_dir+movie_title, resolution):\n",
    "            for tick in range(1*10 + gaze_memory_window, (total_frames-3)*10, 10):\n",
    "                vehicle_transform = None\n",
    "                tickbyten = tick//10\n",
    "                tick_data = get_data(route_data_path, tickbyten)\n",
    "\n",
    "                rgb_img = deepcopy(tick_data['rgb'])\n",
    "                left_img = deepcopy(tick_data['rgb_left'])\n",
    "                right_img = deepcopy(tick_data['rgb_right'])\n",
    "\n",
    "                gaze_in_cam_arr = np.zeros((gaze_memory_window, 2))\n",
    "                gaze_in_cam_arr_rgt = np.zeros((gaze_memory_window, 2))\n",
    "                gaze_in_cam_arr_lft = np.zeros((gaze_memory_window, 2))\n",
    "\n",
    "                for tick_mem in np.arange(tick, tick-gaze_memory_window, -1):\n",
    "                    dreyevr_data_t1 = dreyevr_data_path / (\"{:04d}_{:05d}.pkl\".format(tick_mem//10, tick_mem))\n",
    "                    with open(dreyevr_data_t1, 'rb') as f:\n",
    "                        dreyevr_data_dict = pkl.load(f)\n",
    "\n",
    "                    tick_row_df = df_new[df_new.FrameSequence == dreyevr_data_dict['framesequence']]\n",
    "\n",
    "                    if tick_mem==tick:\n",
    "                        # if you want attention map using 3d locations rather than pixel locs, use current vehicle loc \n",
    "                        # instead of vehicle loc at the time\n",
    "                        vehicle_loc = carla.Location(*(tick_row_df['VehicleLoc'].squeeze()))/100\n",
    "                        vehicle_rot = carla.Rotation(*(tick_row_df['VehicleRot'].squeeze()))    \n",
    "                        vehicle_transform = carla.Transform(location=vehicle_loc, rotation=vehicle_rot)\n",
    "\n",
    "                    # need to remove the saccades\n",
    "                    tick_focus_hitpt = np.array(tick_row_df.FocusInfo_HitPoint.squeeze())/100 # cm -> m\n",
    "\n",
    "                    gaze_in_cam_mid, gaze_in_cam_lft, gaze_in_cam_rgt  = world2pixels(tick_focus_hitpt, vehicle_transform, K)\n",
    "                    gaze_in_cam_arr[tick - tick_mem] = gaze_in_cam_mid\n",
    "                    gaze_in_cam_arr_rgt[tick - tick_mem] = gaze_in_cam_rgt\n",
    "                    gaze_in_cam_arr_lft[tick - tick_mem] = gaze_in_cam_lft\n",
    "\n",
    "            #         print(tick_row_df[\"label\"].squeeze())\n",
    "\n",
    "                    if tick_row_df[\"label\"].squeeze() == 0:\n",
    "                        dot(rgb_img, gaze_in_cam_mid[0], gaze_in_cam_mid[1], r=overlay_rad)\n",
    "                        dot(right_img, gaze_in_cam_rgt[0], gaze_in_cam_rgt[1], r=overlay_rad)\n",
    "                        dot(left_img, gaze_in_cam_lft[0], gaze_in_cam_lft[1], r=overlay_rad)\n",
    "                    elif tick_row_df[\"label\"].squeeze() == 1:\n",
    "                        color = (255, 0, 0)\n",
    "                        dot(rgb_img, gaze_in_cam_mid[0], gaze_in_cam_mid[1], color=color, r=overlay_rad)\n",
    "                        dot(right_img, gaze_in_cam_rgt[0], gaze_in_cam_rgt[1], color=color, r=overlay_rad)\n",
    "                        dot(left_img, gaze_in_cam_lft[0], gaze_in_cam_lft[1], color=color, r=overlay_rad)\n",
    "\n",
    "                img_3stack = np.hstack([left_img, rgb_img, right_img])\n",
    "\n",
    "                plt.imshow(img_3stack)\n",
    "\n",
    "                writer.grab_frame() ; fig.clear()\n",
    "                tstr = time.strftime(\"%Hh %Mm %Ss\", time.gmtime(time.time() - start))\n",
    "                print('\\ttime: {} | progress: {:.1f}%'.format(tstr, 100*tickbyten/total_frames), end='\\r')\n",
    "    except:\n",
    "        print(\"Couldn't process \", route_data_path)\n",
    "    break"
   ]
  },
  {
   "cell_type": "markdown",
   "id": "30dc34e7-7d90-4570-a7a2-102f6ddc653a",
   "metadata": {},
   "source": [
    "## Debug image generation"
   ]
  },
  {
   "cell_type": "code",
   "execution_count": 12,
   "id": "c2c8514a-8f3d-4a6e-a173-9e0e6c19803f",
   "metadata": {},
   "outputs": [],
   "source": [
    "overlay_rad = 1\n",
    "gaze_memory_window=50 # this is number of ticks, x/20 is num seconds\n",
    "# 269\n",
    "# 80\n",
    "# get total num of frames\n",
    "final_datapt_idx = int(sorted(list((route_data_path/'rgb').glob('*.png')))[-1].stem)\n",
    "datapt_idcs = np.arange(final_datapt_idx)+1 # starts from 0001.png\n",
    "total_frames = datapt_idcs[-1]\n",
    "\n",
    "# with writer.saving(fig, movie_save_dir+movie_title, resolution):\n",
    "\n",
    "for tick in range(10*10, (total_frames-3)*10):\n",
    "    tickbyten = tick//10\n",
    "    tick_data = get_data(route_data_path, tickbyten)\n",
    "    rgb_img = deepcopy(tick_data['rgb'])\n",
    "    left_img = deepcopy(tick_data['rgb_left'])\n",
    "    right_img = deepcopy(tick_data['rgb_right'])\n",
    "    \n",
    "    gaze_in_cam_arr = np.zeros((gaze_memory_window, 2))\n",
    "    gaze_in_cam_arr_rgt = np.zeros((gaze_memory_window, 2))\n",
    "    gaze_in_cam_arr_lft = np.zeros((gaze_memory_window, 2))\n",
    "    \n",
    "    for tick_mem in np.arange(tick, tick-gaze_memory_window, -1):\n",
    "        dreyevr_data_t1 = dreyevr_data_path / (\"{:04d}_{:05d}.pkl\".format(tick_mem//10, tick_mem))\n",
    "        with open(dreyevr_data_t1, 'rb') as f:\n",
    "            dreyevr_data_dict = pkl.load(f)\n",
    "            \n",
    "        tick_row_df = df_new[df_new.FrameSequence == dreyevr_data_dict['framesequence']]\n",
    "\n",
    "#         if tick_mem==tick:\n",
    "#             # if you want attention map in current location, use current vehicle loc \n",
    "#             # instead of vehicle loc at the time\n",
    "        vehicle_loc = carla.Location(*(tick_row_df['VehicleLoc'].squeeze()))/100\n",
    "        vehicle_rot = carla.Rotation(*(tick_row_df['VehicleRot'].squeeze()))    \n",
    "        vehicle_transform = carla.Transform(location=vehicle_loc, rotation=vehicle_rot)\n",
    "                \n",
    "                #TODO: need to remove the saccades\n",
    "        if apply_focusinfohitpt_correction:\n",
    "            tick_focus_hitpt = np.array(tick_row_df.FocusInfo_HitPoint.squeeze())            \n",
    "        else:\n",
    "            tick_focus_hitpt = np.array(tick_row_df.FocusInfo_HitPoint.squeeze())\n",
    "        \n",
    "        tick_focus_hitpt /= 100 # cm -> m\n",
    "        \n",
    "        gaze_in_cam_mid, gaze_in_cam_lft, gaze_in_cam_rgt  = world2pixels(tick_focus_hitpt, vehicle_transform, K)\n",
    "        gaze_in_cam_arr[tick - tick_mem] = gaze_in_cam_mid\n",
    "        gaze_in_cam_arr_rgt[tick - tick_mem] = gaze_in_cam_rgt\n",
    "        gaze_in_cam_arr_lft[tick - tick_mem] = gaze_in_cam_lft\n",
    "        \n",
    "#         print(tick_row_df[\"label\"].squeeze())\n",
    "\n",
    "        # if tick_row_df[\"label\"].squeeze() == 0:\n",
    "        #     dot(rgb_img, gaze_in_cam_mid[0], gaze_in_cam_mid[1], r=overlay_rad)\n",
    "        #     dot(right_img, gaze_in_cam_rgt[0], gaze_in_cam_rgt[1], r=overlay_rad)\n",
    "        #     dot(left_img, gaze_in_cam_lft[0], gaze_in_cam_lft[1], r=overlay_rad)\n",
    "        #     print(\"left\", gaze_in_cam_lft)\n",
    "\n",
    "        # elif tick_row_df[\"label\"].squeeze() == 1:\n",
    "        #     color = (255, 0, 0)\n",
    "        #     dot(rgb_img, gaze_in_cam_mid[0], gaze_in_cam_mid[1], color=color, r=overlay_rad)\n",
    "        #     dot(right_img, gaze_in_cam_rgt[0], gaze_in_cam_rgt[1], color=color, r=overlay_rad)\n",
    "        #     dot(left_img, gaze_in_cam_lft[0], gaze_in_cam_lft[1], color=color, r=overlay_rad)\n",
    "        #     print(\"left\", gaze_in_cam_lft)\n",
    "        # img_3stack = np.hstack([left_img, rgb_img, right_img])\n",
    "        \n",
    "#         if tick>31:\n",
    "        plt.imshow(img_3stack)\n",
    "    break"
   ]
  },
  {
   "cell_type": "code",
   "execution_count": 15,
   "id": "759bd3d2",
   "metadata": {},
   "outputs": [],
   "source": [
    "# A function to get a gaussian blob of image size centered at x,y\n",
    "from PIL import Image\n",
    "import scipy.stats as stats\n",
    "\n",
    "def get_gaussian_blob(x, y, sigma, img_size, radius):\n",
    "    attentionMap = np.zeros(img_size) # 2D array of zeros\n",
    "    # check if x and y are within the image size\n",
    "    if x < 0 or y < 0 or x >= img_size[0] or y >= img_size[1]:\n",
    "        return attentionMap\n",
    "\n",
    "    # create a mask of size radius centered at x,y\n",
    "    A, B = np.ogrid[:img_size[0], :img_size[1]]\n",
    "    dist_from_center = np.sqrt((A - x) ** 2 + (B - y) ** 2)\n",
    "    mask = dist_from_center <= radius\n",
    "    \n",
    "    # create gaussian kernel\n",
    "    size = 2 * radius\n",
    "    X = np.linspace(-sigma, sigma, size + 1)\n",
    "    Y = np.diff(stats.norm.cdf(X))\n",
    "    kernel = np.outer(Y, Y)\n",
    "    kernel = kernel / kernel.sum()\n",
    "\n",
    "    # apply the kernel to the attention map\n",
    "    xMin = max(0, x - radius)\n",
    "    xMax = min(img_size[0], x + radius)\n",
    "    yMin = max(0, y - radius)\n",
    "    yMax = min(img_size[1], y + radius)\n",
    "\n",
    "    xMinKernel = max(0, radius - x)\n",
    "    xMaxKernel = min(size, radius + img_size[0] - x)\n",
    "    yMinKernel = max(0, radius - y)\n",
    "    yMaxKernel = min(size, radius + img_size[1] - y)\n",
    "\n",
    "    attentionMap[xMin:xMax, yMin:yMax] = kernel[xMinKernel:xMaxKernel, yMinKernel:yMaxKernel]\n",
    "    \n",
    "    # set all the values outside the mask to 0\n",
    "    attentionMap[~mask] = 0    \n",
    "    \n",
    "    return attentionMap\n",
    "\n",
    "# A function that takes in an array of gaze points and returns an attention map\n",
    "def get_attention_map(gazeCoords, imgShape, sigma=1, radius = 1):\n",
    "    '''\n",
    "    Here the gazeCoords corresponds to all the gaze points \n",
    "    '''\n",
    "    # create a zero array of the size of the image\n",
    "    attentionMap = np.zeros(imgShape)\n",
    "    # for each gaze point, add a gaussian blob to the attention map\n",
    "    for gazePoint in gazeCoords:\n",
    "        # get the x and y coordinates of the gaze point\n",
    "        x, y = gazePoint\n",
    "        # add a gaussian blob to the attention map\n",
    "        attentionMap += get_gaussian_blob(x, y, sigma, imgShape, radius=radius)\n",
    "    # return the attention map\n",
    "    return attentionMap\n",
    "    \n",
    "# a function to draw the attention map on the image\n",
    "def draw_attention_map(gazeCoords, \n",
    "                                        img, \n",
    "                                        alpha=0.3, \n",
    "                                        sigma= 5, \n",
    "                                        radius = 10, \n",
    "                                        image_blur = False, \n",
    "                                        glob_blur = True, \n",
    "                                        color_= True):\n",
    "    # input is a PIL image\n",
    "    # convert the image to numpy array\n",
    "    img = np.array(img)\n",
    "    # interchange the x and y coordinates\n",
    "    gazeCoordsNew = (np.array(gazeCoords)[:, [1, 0]]).astype(int)\n",
    "    # get the attention map\n",
    "    attentionMap = get_attention_map(gazeCoordsNew, img.shape[:2], sigma=sigma, radius=radius)\n",
    "\n",
    "    if image_blur:\n",
    "        # blur the image except the region of interest\n",
    "        img[attentionMap == 0] = cv2.blur(img, (7, 7))[attentionMap == 0]\n",
    "    \n",
    "    if glob_blur:\n",
    "        # apply attention map with alpha blending to the image\n",
    "        if color_:\n",
    "            # color the attention map to Jet colormap\n",
    "            attentionMapCopy = attentionMap.copy()\n",
    "            attentionMapCopy = attentionMapCopy / attentionMapCopy.max()\n",
    "            heatMap = cv2.applyColorMap(np.uint8(255 * attentionMapCopy), cv2.COLORMAP_JET)\n",
    "\n",
    "            # invert colors of heat map\n",
    "            heatMap = cv2.bitwise_not(heatMap)\n",
    "            \n",
    "            # apply the heatMap to the image only where the attention map is greater than 0\n",
    "            img[attentionMap > 0] = img[attentionMap > 0] * (1 - alpha) + heatMap[attentionMap > 0] * (alpha)\n",
    "        else:\n",
    "            img[attentionMap > 0] = img[attentionMap > 0] * (1 - alpha) + attentionMap[attentionMap > 0][:, None] * 255 * (alpha)\n",
    "\n",
    "    # convert the image back to PIL image\n",
    "    img = Image.fromarray(img.astype('uint8'))\n",
    "    return img\n"
   ]
  },
  {
   "cell_type": "code",
   "execution_count": 14,
   "id": "605843f4",
   "metadata": {},
   "outputs": [
    {
     "name": "stdout",
     "output_type": "stream",
     "text": [
      "(144, 256, 3)\n",
      "(144, 256, 3)\n",
      "(144, 256, 3)\n",
      "(256, 144)\n"
     ]
    }
   ],
   "source": [
    "print(np.array(rgb_img).shape)\n",
    "print(np.array(left_img).shape)\n",
    "print(np.array(right_img).shape)\n",
    "print(rgb_img.size)"
   ]
  },
  {
   "cell_type": "code",
   "execution_count": 18,
   "id": "34ca966d",
   "metadata": {},
   "outputs": [],
   "source": [
    "image = draw_attention_map(gaze_in_cam_arr, rgb_img, alpha=0.3, sigma= 1, radius = 5, image_blur = False, glob_blur = True)\n",
    "imageLeft = draw_attention_map(gaze_in_cam_arr_lft, left_img, alpha=0.3, sigma= 1, radius = 5, image_blur = False, glob_blur = True)\n",
    "imageRight = draw_attention_map(gaze_in_cam_arr_rgt, right_img, alpha=0.5, sigma= 1, radius = 5, image_blur = False, glob_blur = True, color_=False)\n",
    "# plot the image\n",
    "plt.imshow(imageRight)\n",
    "plt.savefig('test.png')"
   ]
  },
  {
   "cell_type": "code",
   "execution_count": null,
   "id": "1abdfd15-ad39-4d2a-bc27-7c318af4213b",
   "metadata": {},
   "outputs": [],
   "source": [
    "np.array(tick_row_df.FocusInfo_HitPoint_fixed.squeeze())"
   ]
  },
  {
   "cell_type": "code",
   "execution_count": 31,
   "id": "2ddf5b5a-a634-4f9c-a35e-ce26ee98f27f",
   "metadata": {},
   "outputs": [],
   "source": [
    "debug_fig = plt.figure(figsize=(15, 45))\n",
    "plt.imshow(np.array(rgb_img))\n",
    "plt.savefig('debug_rgb.png')\n",
    "plt.imshow(np.array(left_img))\n",
    "plt.savefig('debug_left.png')\n",
    "plt.imshow(np.array(right_img))\n",
    "plt.savefig('debug_right.png')"
   ]
  },
  {
   "cell_type": "code",
   "execution_count": null,
   "id": "db1b958e-01a3-4d56-b548-2d757c4998e9",
   "metadata": {},
   "outputs": [],
   "source": [
    "debug_fig"
   ]
  },
  {
   "cell_type": "code",
   "execution_count": null,
   "id": "cb415789-64be-496e-b07d-9e55ae85797d",
   "metadata": {},
   "outputs": [],
   "source": [
    "debug_fig = plt.figure(figsize=(15, 45))\n",
    "plt.imshow(img_3stack)"
   ]
  },
  {
   "cell_type": "code",
   "execution_count": null,
   "id": "68b6cfdf-67f4-4e1d-b25c-7e721815cc19",
   "metadata": {},
   "outputs": [],
   "source": []
  },
  {
   "cell_type": "code",
   "execution_count": null,
   "id": "ed3a211a-0af8-4a1a-ab82-f0c3f2c62a4f",
   "metadata": {
    "partialCollapse": true,
    "tags": []
   },
   "outputs": [],
   "source": [
    "# then do the 3 sensor gaze overlay with corrected focus hitpts\n",
    "# (do gaze event classification)\n",
    "# then convert to attention maps (history + dispersion)"
   ]
  },
  {
   "cell_type": "code",
   "execution_count": 28,
   "id": "6519c95e",
   "metadata": {},
   "outputs": [],
   "source": [
    "%matplotlib inline"
   ]
  },
  {
   "cell_type": "code",
   "execution_count": 33,
   "id": "f2fa4ebc-7ba5-4b6d-a031-aa5384ff1534",
   "metadata": {},
   "outputs": [
    {
     "data": {
      "image/png": "[encoded data removed]",
      "text/plain": [
       "<Figure size 720x720 with 2 Axes>"
      ]
     },
     "metadata": {
      "needs_background": "light"
     },
     "output_type": "display_data"
    }
   ],
   "source": [
    "# test the function\n",
    "# create a random array of gaze points\n",
    "gazeCoords = np.random.randint(0, 144, (20, 2))\n",
    "# get the attention map\n",
    "attentionMap = get_attention_map(gazeCoords, (256, 144), 5, 10)\n",
    "# plot the attention map of big size\n",
    "plt.figure(figsize=(10, 10))\n",
    "\n",
    "# create a numpy array of the attention map\n",
    "attentionMap = np.array(attentionMap)\n",
    "# show the attention map# add a colorbar with Jet colormap\n",
    "plt.imshow(attentionMap, cmap='jet')\n",
    "plt.colorbar()\n",
    "plt.show()\n"
   ]
  },
  {
   "cell_type": "code",
   "execution_count": null,
   "id": "37d26c68",
   "metadata": {},
   "outputs": [],
   "source": []
  }
 ],
 "metadata": {
  "kernelspec": {
   "display_name": "Python 3.8.13 ('dreyevr')",
   "language": "python",
   "name": "python3"
  },
  "language_info": {
   "codemirror_mode": {
    "name": "ipython",
    "version": 3
   },
   "file_extension": ".py",
   "mimetype": "text/x-python",
   "name": "python",
   "nbconvert_exporter": "python",
   "pygments_lexer": "ipython3",
   "version": "3.8.13"
  },
  "vscode": {
   "interpreter": {
    "hash": "90ec1800a7bf9788114b35b95ce56fd97bb71445390dab95ccff227584dc23fe"
   }
  }
 },
 "nbformat": 4,
 "nbformat_minor": 5
}
